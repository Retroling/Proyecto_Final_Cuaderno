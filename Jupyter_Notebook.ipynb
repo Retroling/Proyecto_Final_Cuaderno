{
 "cells": [
  {
   "cell_type": "markdown",
   "metadata": {},
   "source": [
    "<center>\n",
    "    <img src=\"https://cf-courses-data.s3.us.cloud-object-storage.appdomain.cloud/IBMDeveloperSkillsNetwork-DS0105EN-SkillsNetwork/labs/Module2/images/SN_web_lightmode.png\" width=\"300\" alt=\"cognitiveclass.ai logo\">\n",
    "</center>\n"
   ]
  },
  {
   "cell_type": "markdown",
   "metadata": {},
   "source": [
    "#### Add your code below following the instructions given in the course\n"
   ]
  },
  {
   "cell_type": "code",
   "execution_count": 1,
   "metadata": {},
   "outputs": [],
   "source": [
    "# Proyecto Final - Introducción a la Ciencia de Datos\n"
   ]
  },
  {
   "cell_type": "code",
   "execution_count": 4,
   "metadata": {},
   "outputs": [],
   "source": [
    "## Introducción \n"
   ]
  },
  {
   "cell_type": "code",
   "execution_count": null,
   "metadata": {},
   "outputs": [],
   "source": [
    "## Lenguajes utilizados en la Ciencia de Datos\n",
    "\n",
    "Algunos de los lenguajes más comunes en la Ciencia de Datos incluyen:\n",
    "\n",
    "- Python\n",
    "- R\n",
    "- SQL\n",
    "- Scala\n",
    "- Julia\n"
   ]
  },
  {
   "cell_type": "code",
   "execution_count": null,
   "metadata": {},
   "outputs": [],
   "source": [
    "## Bibliotecas populares\n",
    "\n",
    "- Pandas: para manipulación y análisis de datos.\n",
    "- NumPy: para operaciones numéricas y matrices.\n",
    "- Matplotlib: para visualización de datos.\n",
    "- Seaborn: para gráficos estadísticos.\n",
    "- Scikit-learn: para aprendizaje automático.\n"
   ]
  },
  {
   "cell_type": "code",
   "execution_count": null,
   "metadata": {},
   "outputs": [],
   "source": [
    "## herramientas de Ciencia de Datos\n",
    "\n",
    "| Herramienta           | Descripción                              |\n",
    "|-----------------------|------------------------------------------|\n",
    "| Jupyter Notebook      | Entorno interactivo para escribir código |\n",
    "| RStudio               | IDE para el lenguaje R                   |\n",
    "| Apache Spark          | Motor de análisis de grandes datos       |\n",
    "| TensorFlow            | Librería para aprendizaje profundo       |\n",
    "| Tableau               | Herramienta de visualización de datos    |"
   ]
  },
  {
   "cell_type": "code",
   "execution_count": null,
   "metadata": {},
   "outputs": [],
   "source": [
    "## ejemplos de expresiones aritméticas\n",
    "- 3 + 5\n",
    "- 10 - 4\n",
    "- 8 * 7\n",
    "- 20 / 4"
   ]
  },
  {
   "cell_type": "code",
   "execution_count": 6,
   "metadata": {},
   "outputs": [
    {
     "name": "stdout",
     "output_type": "stream",
     "text": [
      "El resultado es: 17\n"
     ]
    }
   ],
   "source": [
    "# Multiplicación y suma\n",
    "a = 5\n",
    "b = 3\n",
    "resultado = (a * b) + 2\n",
    "print(\"El resultado es:\", resultado)\n"
   ]
  },
  {
   "cell_type": "code",
   "execution_count": 5,
   "metadata": {},
   "outputs": [
    {
     "name": "stdout",
     "output_type": "stream",
     "text": [
      "150 minutos equivalen a 2.5 horas.\n"
     ]
    }
   ],
   "source": [
    "# Convertir minutos a horas\n",
    "minutos = 150\n",
    "horas = minutos / 60\n",
    "print(f\"{minutos} minutos equivalen a {horas} horas.\")"
   ]
  },
  {
   "cell_type": "code",
   "execution_count": null,
   "metadata": {},
   "outputs": [],
   "source": [
    "# Objetivos de este cuaderno\n",
    "objetivos = [\n",
    "    \"Entender los lenguajes usados en Ciencia de Datos\",\n",
    "    \"Explorar bibliotecas y herramientas comunes\",\n",
    "    \"Realizar operaciones básicas en Python\"\n",
    "]\n",
    "for obj in objetivos:\n",
    "    print(\"-\", obj)"
   ]
  },
  {
   "cell_type": "code",
   "execution_count": null,
   "metadata": {},
   "outputs": [],
   "source": [
    "## Autor\n",
    "\n",
    "Nombre: Holmes Daniel Domínguez Alarcón\n",
    "Fecha: 20 de Mayo 2025\n"
   ]
  }
 ],
 "metadata": {
  "kernelspec": {
   "display_name": "Python 3 (ipykernel)",
   "language": "python",
   "name": "python3"
  },
  "language_info": {
   "codemirror_mode": {
    "name": "ipython",
    "version": 3
   },
   "file_extension": ".py",
   "mimetype": "text/x-python",
   "name": "python",
   "nbconvert_exporter": "python",
   "pygments_lexer": "ipython3",
   "version": "3.12.8"
  }
 },
 "nbformat": 4,
 "nbformat_minor": 4
}
